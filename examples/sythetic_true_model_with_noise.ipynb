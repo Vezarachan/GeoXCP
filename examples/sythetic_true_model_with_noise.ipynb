{
 "cells": [
  {
   "metadata": {},
   "cell_type": "markdown",
   "source": "# Synthetic Dataset with Noise",
   "id": "1cb1c5e1a3ea5b93"
  },
  {
   "metadata": {
    "ExecuteTime": {
     "end_time": "2025-02-14T13:07:46.421360Z",
     "start_time": "2025-02-14T13:07:19.304103Z"
    }
   },
   "cell_type": "code",
   "source": [
    "import matplotlib.pyplot as plt\n",
    "import numpy as np\n",
    "import pandas as pd\n",
    "import seaborn as sns\n",
    "from matplotlib.colors import ListedColormap\n",
    "from matplotlib.patches import Patch\n",
    "from scipy.stats import beta\n",
    "from sklearn.model_selection import train_test_split\n",
    "import shap\n",
    "from GeoConformalizedExplainer import GeoConformalizedExplainer"
   ],
   "id": "d0cb6737d36c3c73",
   "outputs": [
    {
     "name": "stderr",
     "output_type": "stream",
     "text": [
      "C:\\Users\\Xiayin\\miniconda3\\envs\\UncertaintyGeoXAI\\lib\\site-packages\\tqdm\\auto.py:21: TqdmWarning: IProgress not found. Please update jupyter and ipywidgets. See https://ipywidgets.readthedocs.io/en/stable/user_install.html\n",
      "  from .autonotebook import tqdm as notebook_tqdm\n"
     ]
    }
   ],
   "execution_count": 1
  },
  {
   "metadata": {},
   "cell_type": "markdown",
   "source": "## Plot Functions",
   "id": "8edcb78f6ca6c114"
  },
  {
   "metadata": {
    "ExecuteTime": {
     "end_time": "2025-02-14T13:08:29.611337Z",
     "start_time": "2025-02-14T13:08:29.580083Z"
    }
   },
   "cell_type": "code",
   "source": [
    "def plot_s(b, k=3, size=50, title=None, sub_titles=None, non_spatial=None, vmin=None, vmax=None, interpolation=None,\n",
    "           cmap=plt.get_cmap('viridis', 36)):\n",
    "    fig, axes = plt.subplots(1, k, figsize=(6 * k, 5), dpi=500)\n",
    "    plt.rcParams['legend.fontsize'] = 16\n",
    "    for i in range(k):\n",
    "        ax = axes[i]\n",
    "        if i in non_spatial:\n",
    "            ax.scatter(b[i][0], b[i][1], s=5, color='black')\n",
    "            ax.set_ylim(b[i][2], b[i][3])\n",
    "            ax.set_xlim(-2.5, 2.5)\n",
    "            ax.set_xlabel(r'$X_{}$'.format(i), fontsize=16)\n",
    "            ax.xaxis.set_tick_params(labelsize=20)\n",
    "            ax.yaxis.set_tick_params(labelsize=20)\n",
    "            ax.grid(False)\n",
    "        else:\n",
    "            if vmin is None:\n",
    "                vmin = np.floor(b[i].min() * 10) / 10\n",
    "            if vmax is None:\n",
    "                vmax = np.ceil(b[i].max() * 10) / 10\n",
    "            c = ax.imshow(b[i].reshape(size, size), cmap=cmap, vmin=vmin, vmax=vmax, interpolation=interpolation)\n",
    "            cb = fig.colorbar(c, ax=ax)\n",
    "            cb.ax.tick_params(labelsize=20)\n",
    "            ax.set_xticks(np.arange(-0.5, size, 5))\n",
    "            ax.set_yticks(np.arange(-0.5, size, 5))\n",
    "            ax.set_xticklabels([])\n",
    "            ax.set_yticklabels([])\n",
    "            ax.set_axis_off()\n",
    "            ax.tick_params(axis='x', colors=(0, 0, 0, 0))\n",
    "            ax.tick_params(axis='y', colors=(0, 0, 0, 0))\n",
    "        ax.set_title(sub_titles[i], fontsize=20, y=1.05)\n",
    "\n",
    "    plt.savefig(f'{title}.pdf', bbox_inches='tight')"
   ],
   "id": "1083d030ed2cedac",
   "outputs": [],
   "execution_count": 2
  },
  {
   "metadata": {
    "ExecuteTime": {
     "end_time": "2025-02-14T13:08:38.070541Z",
     "start_time": "2025-02-14T13:08:38.039275Z"
    }
   },
   "cell_type": "code",
   "source": [
    "def plot_uncertainty(u, k=3, title=None, sub_titles=None, cmap='flare', s_limits=(5, 20), hue='geo_uncertainty',\n",
    "                     size='shap_abs'):\n",
    "    fig, axes = plt.subplots(1, k, figsize=(6 * k, 5), dpi=500)\n",
    "    sns.set_style(\"white\")\n",
    "\n",
    "    for i in range(k):\n",
    "        ax = axes[i]\n",
    "        data = u[i]\n",
    "        g = sns.scatterplot(data=data, x='x', y='y', hue=hue, size=size, palette=cmap, sizes=s_limits, legend=False,\n",
    "                            edgecolor='.7', ax=ax)\n",
    "        g.set(xlabel='', ylabel='', aspect='equal')\n",
    "        ax.set_title(sub_titles[i], fontsize=20, y=1.05)\n",
    "\n",
    "    plt.savefig(f'{title}.pdf', bbox_inches='tight')"
   ],
   "id": "4eeb984794a756ce",
   "outputs": [],
   "execution_count": 3
  },
  {
   "metadata": {
    "ExecuteTime": {
     "end_time": "2025-02-14T13:08:47.086774Z",
     "start_time": "2025-02-14T13:08:47.071148Z"
    }
   },
   "cell_type": "code",
   "source": [
    "def plot_coverage(c, k=3, size=50, title=None, sub_titles=None, colors=None, cmap=None):\n",
    "    fig, axes = plt.subplots(1, k, figsize=(6 * k, 5), dpi=500)\n",
    "    legend_elements = [Patch(facecolor=colors[0], edgecolor='.7', label='Not Covered'),\n",
    "                       Patch(facecolor=colors[1], edgecolor='.7', label='Covered')]\n",
    "    for i in range(k):\n",
    "        ax = axes[i]\n",
    "        ax.imshow(c[i].reshape(size, size), cmap=cmap, vmin=0, vmax=1)\n",
    "        ax.legend(handles=legend_elements, loc='upper right', title='')\n",
    "        ax.set_title(sub_titles[i], fontsize=20, y=1.05)\n",
    "    plt.savefig(f'{title}.pdf', bbox_inches='tight')"
   ],
   "id": "4f8bf8be25094dc1",
   "outputs": [],
   "execution_count": 4
  },
  {
   "metadata": {},
   "cell_type": "markdown",
   "source": "## Noise in Coefficients",
   "id": "875bfa6de72639c5"
  },
  {
   "metadata": {},
   "cell_type": "code",
   "outputs": [],
   "execution_count": null,
   "source": [
    "size = 50\n",
    "\n",
    "b1 = np.ones((size, size))\n",
    "b2 = np.ones((size, size))\n",
    "b3 = np.ones((size, size))\n",
    "\n",
    "for i in range(size):\n",
    "    for j in range(size):\n",
    "        b1[i, j] = 2.25 * beta.pdf(i / 49, 2, 2) * beta.pdf(j / 49, 3, 2)\n",
    "        b2[i, j] = (i + j) / 49 * 3\n",
    "        b3[i, j] = 6 * np.exp(-((i - 20) ** 2 + (j - 30) ** 2) / (2 * 15 ** 2))"
   ],
   "id": "931ef41ccd61049b"
  }
 ],
 "metadata": {
  "kernelspec": {
   "display_name": "Python 3",
   "language": "python",
   "name": "python3"
  },
  "language_info": {
   "codemirror_mode": {
    "name": "ipython",
    "version": 2
   },
   "file_extension": ".py",
   "mimetype": "text/x-python",
   "name": "python",
   "nbconvert_exporter": "python",
   "pygments_lexer": "ipython2",
   "version": "2.7.6"
  }
 },
 "nbformat": 4,
 "nbformat_minor": 5
}
