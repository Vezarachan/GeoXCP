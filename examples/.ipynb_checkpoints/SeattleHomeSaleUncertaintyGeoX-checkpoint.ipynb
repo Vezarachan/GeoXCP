{
 "cells": [
  {
   "cell_type": "code",
   "execution_count": 1,
   "id": "initial_id",
   "metadata": {
    "ExecuteTime": {
     "end_time": "2024-11-26T14:23:21.937657Z",
     "start_time": "2024-11-26T14:23:18.284677Z"
    },
    "collapsed": true,
    "jupyter": {
     "outputs_hidden": true
    }
   },
   "outputs": [],
   "source": [
    "import geopandas as gpd\n",
    "import numpy as np\n",
    "import pandas as pd\n",
    "import xgboost as xgb\n",
    "from sklearn.model_selection import train_test_split\n",
    "\n",
    "from GeoConformalizedExplainer import GeoConformalizedExplainer"
   ]
  },
  {
   "cell_type": "code",
   "execution_count": 2,
   "id": "39ac3f757e6b3f36",
   "metadata": {
    "ExecuteTime": {
     "end_time": "2024-11-26T14:23:21.984455Z",
     "start_time": "2024-11-26T14:23:21.953185Z"
    }
   },
   "outputs": [],
   "source": [
    "data = pd.read_csv('../data/seattle_sample_3k.csv')"
   ]
  },
  {
   "cell_type": "code",
   "execution_count": 3,
   "id": "902aea7fd2de2984",
   "metadata": {
    "ExecuteTime": {
     "end_time": "2024-11-26T14:23:22.366340Z",
     "start_time": "2024-11-26T14:23:22.335092Z"
    }
   },
   "outputs": [],
   "source": [
    "data = gpd.GeoDataFrame(data, crs=\"EPSG:32610\", geometry=gpd.points_from_xy(x=data.UTM_X, y=data.UTM_Y))"
   ]
  },
  {
   "cell_type": "code",
   "execution_count": 4,
   "id": "be001506dc0be707",
   "metadata": {
    "ExecuteTime": {
     "end_time": "2024-11-26T14:23:22.428840Z",
     "start_time": "2024-11-26T14:23:22.397591Z"
    }
   },
   "outputs": [],
   "source": [
    "data = data.to_crs(4326)"
   ]
  },
  {
   "cell_type": "code",
   "execution_count": 5,
   "id": "a9dd961bc8506f50",
   "metadata": {
    "ExecuteTime": {
     "end_time": "2024-11-26T14:23:22.491628Z",
     "start_time": "2024-11-26T14:23:22.475978Z"
    }
   },
   "outputs": [],
   "source": [
    "data['lat'] = data['geometry'].get_coordinates()['x']"
   ]
  },
  {
   "cell_type": "code",
   "execution_count": 6,
   "id": "6403c6f0125952c8",
   "metadata": {
    "ExecuteTime": {
     "end_time": "2024-11-26T14:23:22.507232Z",
     "start_time": "2024-11-26T14:23:22.491628Z"
    }
   },
   "outputs": [],
   "source": [
    "data['lon'] = data['geometry'].get_coordinates()['y']"
   ]
  },
  {
   "cell_type": "code",
   "execution_count": 7,
   "id": "db2f5d54ad985b2f",
   "metadata": {
    "ExecuteTime": {
     "end_time": "2024-11-26T14:23:22.554104Z",
     "start_time": "2024-11-26T14:23:22.538478Z"
    }
   },
   "outputs": [],
   "source": [
    "data['price'] = np.power(10, data['log_price']) / 10000"
   ]
  },
  {
   "cell_type": "code",
   "execution_count": 8,
   "id": "162e591e39ba4383",
   "metadata": {
    "ExecuteTime": {
     "end_time": "2024-11-26T14:23:22.589907Z",
     "start_time": "2024-11-26T14:23:22.574253Z"
    }
   },
   "outputs": [],
   "source": [
    "y = data.price\n",
    "X = data[['bathrooms', 'sqft_living', 'sqft_lot', 'grade', 'condition', 'waterfront', 'view', 'age', 'UTM_X', 'UTM_Y']]\n",
    "loc = data[['lat', 'lon']]"
   ]
  },
  {
   "cell_type": "code",
   "execution_count": 9,
   "id": "fe2c53d3008d58fc",
   "metadata": {
    "ExecuteTime": {
     "end_time": "2024-11-26T14:23:22.636756Z",
     "start_time": "2024-11-26T14:23:22.621129Z"
    }
   },
   "outputs": [],
   "source": [
    "X_train, X_temp, y_train, y_temp, loc_train, loc_temp = train_test_split(X, y, loc, train_size=0.8, random_state=42)"
   ]
  },
  {
   "cell_type": "code",
   "execution_count": 10,
   "id": "e7241f23f59fc010",
   "metadata": {
    "ExecuteTime": {
     "end_time": "2024-11-26T14:23:22.689691Z",
     "start_time": "2024-11-26T14:23:22.674033Z"
    }
   },
   "outputs": [],
   "source": [
    "X_calib, X_test, y_calib, y_test, loc_calib, loc_test = train_test_split(X_temp, y_temp, loc_temp, train_size=0.5,\n",
    "                                                                         random_state=42)"
   ]
  },
  {
   "cell_type": "code",
   "execution_count": 11,
   "id": "bc5673166afac36e",
   "metadata": {
    "ExecuteTime": {
     "end_time": "2024-11-26T14:23:22.752264Z",
     "start_time": "2024-11-26T14:23:22.736573Z"
    }
   },
   "outputs": [],
   "source": [
    "model = xgb.XGBRegressor(n_estimators=500, max_depth=3, min_child_weight=1.0, colsample_bytree=1.0)"
   ]
  },
  {
   "cell_type": "code",
   "execution_count": 12,
   "id": "a788f5880568a2bd",
   "metadata": {
    "ExecuteTime": {
     "end_time": "2024-11-26T14:23:23.150283Z",
     "start_time": "2024-11-26T14:23:22.813794Z"
    }
   },
   "outputs": [
    {
     "data": {
      "text/html": [
       "<style>#sk-container-id-1 {\n",
       "  /* Definition of color scheme common for light and dark mode */\n",
       "  --sklearn-color-text: black;\n",
       "  --sklearn-color-line: gray;\n",
       "  /* Definition of color scheme for unfitted estimators */\n",
       "  --sklearn-color-unfitted-level-0: #fff5e6;\n",
       "  --sklearn-color-unfitted-level-1: #f6e4d2;\n",
       "  --sklearn-color-unfitted-level-2: #ffe0b3;\n",
       "  --sklearn-color-unfitted-level-3: chocolate;\n",
       "  /* Definition of color scheme for fitted estimators */\n",
       "  --sklearn-color-fitted-level-0: #f0f8ff;\n",
       "  --sklearn-color-fitted-level-1: #d4ebff;\n",
       "  --sklearn-color-fitted-level-2: #b3dbfd;\n",
       "  --sklearn-color-fitted-level-3: cornflowerblue;\n",
       "\n",
       "  /* Specific color for light theme */\n",
       "  --sklearn-color-text-on-default-background: var(--sg-text-color, var(--theme-code-foreground, var(--jp-content-font-color1, black)));\n",
       "  --sklearn-color-background: var(--sg-background-color, var(--theme-background, var(--jp-layout-color0, white)));\n",
       "  --sklearn-color-border-box: var(--sg-text-color, var(--theme-code-foreground, var(--jp-content-font-color1, black)));\n",
       "  --sklearn-color-icon: #696969;\n",
       "\n",
       "  @media (prefers-color-scheme: dark) {\n",
       "    /* Redefinition of color scheme for dark theme */\n",
       "    --sklearn-color-text-on-default-background: var(--sg-text-color, var(--theme-code-foreground, var(--jp-content-font-color1, white)));\n",
       "    --sklearn-color-background: var(--sg-background-color, var(--theme-background, var(--jp-layout-color0, #111)));\n",
       "    --sklearn-color-border-box: var(--sg-text-color, var(--theme-code-foreground, var(--jp-content-font-color1, white)));\n",
       "    --sklearn-color-icon: #878787;\n",
       "  }\n",
       "}\n",
       "\n",
       "#sk-container-id-1 {\n",
       "  color: var(--sklearn-color-text);\n",
       "}\n",
       "\n",
       "#sk-container-id-1 pre {\n",
       "  padding: 0;\n",
       "}\n",
       "\n",
       "#sk-container-id-1 input.sk-hidden--visually {\n",
       "  border: 0;\n",
       "  clip: rect(1px 1px 1px 1px);\n",
       "  clip: rect(1px, 1px, 1px, 1px);\n",
       "  height: 1px;\n",
       "  margin: -1px;\n",
       "  overflow: hidden;\n",
       "  padding: 0;\n",
       "  position: absolute;\n",
       "  width: 1px;\n",
       "}\n",
       "\n",
       "#sk-container-id-1 div.sk-dashed-wrapped {\n",
       "  border: 1px dashed var(--sklearn-color-line);\n",
       "  margin: 0 0.4em 0.5em 0.4em;\n",
       "  box-sizing: border-box;\n",
       "  padding-bottom: 0.4em;\n",
       "  background-color: var(--sklearn-color-background);\n",
       "}\n",
       "\n",
       "#sk-container-id-1 div.sk-container {\n",
       "  /* jupyter's `normalize.less` sets `[hidden] { display: none; }`\n",
       "     but bootstrap.min.css set `[hidden] { display: none !important; }`\n",
       "     so we also need the `!important` here to be able to override the\n",
       "     default hidden behavior on the sphinx rendered scikit-learn.org.\n",
       "     See: https://github.com/scikit-learn/scikit-learn/issues/21755 */\n",
       "  display: inline-block !important;\n",
       "  position: relative;\n",
       "}\n",
       "\n",
       "#sk-container-id-1 div.sk-text-repr-fallback {\n",
       "  display: none;\n",
       "}\n",
       "\n",
       "div.sk-parallel-item,\n",
       "div.sk-serial,\n",
       "div.sk-item {\n",
       "  /* draw centered vertical line to link estimators */\n",
       "  background-image: linear-gradient(var(--sklearn-color-text-on-default-background), var(--sklearn-color-text-on-default-background));\n",
       "  background-size: 2px 100%;\n",
       "  background-repeat: no-repeat;\n",
       "  background-position: center center;\n",
       "}\n",
       "\n",
       "/* Parallel-specific style estimator block */\n",
       "\n",
       "#sk-container-id-1 div.sk-parallel-item::after {\n",
       "  content: \"\";\n",
       "  width: 100%;\n",
       "  border-bottom: 2px solid var(--sklearn-color-text-on-default-background);\n",
       "  flex-grow: 1;\n",
       "}\n",
       "\n",
       "#sk-container-id-1 div.sk-parallel {\n",
       "  display: flex;\n",
       "  align-items: stretch;\n",
       "  justify-content: center;\n",
       "  background-color: var(--sklearn-color-background);\n",
       "  position: relative;\n",
       "}\n",
       "\n",
       "#sk-container-id-1 div.sk-parallel-item {\n",
       "  display: flex;\n",
       "  flex-direction: column;\n",
       "}\n",
       "\n",
       "#sk-container-id-1 div.sk-parallel-item:first-child::after {\n",
       "  align-self: flex-end;\n",
       "  width: 50%;\n",
       "}\n",
       "\n",
       "#sk-container-id-1 div.sk-parallel-item:last-child::after {\n",
       "  align-self: flex-start;\n",
       "  width: 50%;\n",
       "}\n",
       "\n",
       "#sk-container-id-1 div.sk-parallel-item:only-child::after {\n",
       "  width: 0;\n",
       "}\n",
       "\n",
       "/* Serial-specific style estimator block */\n",
       "\n",
       "#sk-container-id-1 div.sk-serial {\n",
       "  display: flex;\n",
       "  flex-direction: column;\n",
       "  align-items: center;\n",
       "  background-color: var(--sklearn-color-background);\n",
       "  padding-right: 1em;\n",
       "  padding-left: 1em;\n",
       "}\n",
       "\n",
       "\n",
       "/* Toggleable style: style used for estimator/Pipeline/ColumnTransformer box that is\n",
       "clickable and can be expanded/collapsed.\n",
       "- Pipeline and ColumnTransformer use this feature and define the default style\n",
       "- Estimators will overwrite some part of the style using the `sk-estimator` class\n",
       "*/\n",
       "\n",
       "/* Pipeline and ColumnTransformer style (default) */\n",
       "\n",
       "#sk-container-id-1 div.sk-toggleable {\n",
       "  /* Default theme specific background. It is overwritten whether we have a\n",
       "  specific estimator or a Pipeline/ColumnTransformer */\n",
       "  background-color: var(--sklearn-color-background);\n",
       "}\n",
       "\n",
       "/* Toggleable label */\n",
       "#sk-container-id-1 label.sk-toggleable__label {\n",
       "  cursor: pointer;\n",
       "  display: block;\n",
       "  width: 100%;\n",
       "  margin-bottom: 0;\n",
       "  padding: 0.5em;\n",
       "  box-sizing: border-box;\n",
       "  text-align: center;\n",
       "}\n",
       "\n",
       "#sk-container-id-1 label.sk-toggleable__label-arrow:before {\n",
       "  /* Arrow on the left of the label */\n",
       "  content: \"▸\";\n",
       "  float: left;\n",
       "  margin-right: 0.25em;\n",
       "  color: var(--sklearn-color-icon);\n",
       "}\n",
       "\n",
       "#sk-container-id-1 label.sk-toggleable__label-arrow:hover:before {\n",
       "  color: var(--sklearn-color-text);\n",
       "}\n",
       "\n",
       "/* Toggleable content - dropdown */\n",
       "\n",
       "#sk-container-id-1 div.sk-toggleable__content {\n",
       "  max-height: 0;\n",
       "  max-width: 0;\n",
       "  overflow: hidden;\n",
       "  text-align: left;\n",
       "  /* unfitted */\n",
       "  background-color: var(--sklearn-color-unfitted-level-0);\n",
       "}\n",
       "\n",
       "#sk-container-id-1 div.sk-toggleable__content.fitted {\n",
       "  /* fitted */\n",
       "  background-color: var(--sklearn-color-fitted-level-0);\n",
       "}\n",
       "\n",
       "#sk-container-id-1 div.sk-toggleable__content pre {\n",
       "  margin: 0.2em;\n",
       "  border-radius: 0.25em;\n",
       "  color: var(--sklearn-color-text);\n",
       "  /* unfitted */\n",
       "  background-color: var(--sklearn-color-unfitted-level-0);\n",
       "}\n",
       "\n",
       "#sk-container-id-1 div.sk-toggleable__content.fitted pre {\n",
       "  /* unfitted */\n",
       "  background-color: var(--sklearn-color-fitted-level-0);\n",
       "}\n",
       "\n",
       "#sk-container-id-1 input.sk-toggleable__control:checked~div.sk-toggleable__content {\n",
       "  /* Expand drop-down */\n",
       "  max-height: 200px;\n",
       "  max-width: 100%;\n",
       "  overflow: auto;\n",
       "}\n",
       "\n",
       "#sk-container-id-1 input.sk-toggleable__control:checked~label.sk-toggleable__label-arrow:before {\n",
       "  content: \"▾\";\n",
       "}\n",
       "\n",
       "/* Pipeline/ColumnTransformer-specific style */\n",
       "\n",
       "#sk-container-id-1 div.sk-label input.sk-toggleable__control:checked~label.sk-toggleable__label {\n",
       "  color: var(--sklearn-color-text);\n",
       "  background-color: var(--sklearn-color-unfitted-level-2);\n",
       "}\n",
       "\n",
       "#sk-container-id-1 div.sk-label.fitted input.sk-toggleable__control:checked~label.sk-toggleable__label {\n",
       "  background-color: var(--sklearn-color-fitted-level-2);\n",
       "}\n",
       "\n",
       "/* Estimator-specific style */\n",
       "\n",
       "/* Colorize estimator box */\n",
       "#sk-container-id-1 div.sk-estimator input.sk-toggleable__control:checked~label.sk-toggleable__label {\n",
       "  /* unfitted */\n",
       "  background-color: var(--sklearn-color-unfitted-level-2);\n",
       "}\n",
       "\n",
       "#sk-container-id-1 div.sk-estimator.fitted input.sk-toggleable__control:checked~label.sk-toggleable__label {\n",
       "  /* fitted */\n",
       "  background-color: var(--sklearn-color-fitted-level-2);\n",
       "}\n",
       "\n",
       "#sk-container-id-1 div.sk-label label.sk-toggleable__label,\n",
       "#sk-container-id-1 div.sk-label label {\n",
       "  /* The background is the default theme color */\n",
       "  color: var(--sklearn-color-text-on-default-background);\n",
       "}\n",
       "\n",
       "/* On hover, darken the color of the background */\n",
       "#sk-container-id-1 div.sk-label:hover label.sk-toggleable__label {\n",
       "  color: var(--sklearn-color-text);\n",
       "  background-color: var(--sklearn-color-unfitted-level-2);\n",
       "}\n",
       "\n",
       "/* Label box, darken color on hover, fitted */\n",
       "#sk-container-id-1 div.sk-label.fitted:hover label.sk-toggleable__label.fitted {\n",
       "  color: var(--sklearn-color-text);\n",
       "  background-color: var(--sklearn-color-fitted-level-2);\n",
       "}\n",
       "\n",
       "/* Estimator label */\n",
       "\n",
       "#sk-container-id-1 div.sk-label label {\n",
       "  font-family: monospace;\n",
       "  font-weight: bold;\n",
       "  display: inline-block;\n",
       "  line-height: 1.2em;\n",
       "}\n",
       "\n",
       "#sk-container-id-1 div.sk-label-container {\n",
       "  text-align: center;\n",
       "}\n",
       "\n",
       "/* Estimator-specific */\n",
       "#sk-container-id-1 div.sk-estimator {\n",
       "  font-family: monospace;\n",
       "  border: 1px dotted var(--sklearn-color-border-box);\n",
       "  border-radius: 0.25em;\n",
       "  box-sizing: border-box;\n",
       "  margin-bottom: 0.5em;\n",
       "  /* unfitted */\n",
       "  background-color: var(--sklearn-color-unfitted-level-0);\n",
       "}\n",
       "\n",
       "#sk-container-id-1 div.sk-estimator.fitted {\n",
       "  /* fitted */\n",
       "  background-color: var(--sklearn-color-fitted-level-0);\n",
       "}\n",
       "\n",
       "/* on hover */\n",
       "#sk-container-id-1 div.sk-estimator:hover {\n",
       "  /* unfitted */\n",
       "  background-color: var(--sklearn-color-unfitted-level-2);\n",
       "}\n",
       "\n",
       "#sk-container-id-1 div.sk-estimator.fitted:hover {\n",
       "  /* fitted */\n",
       "  background-color: var(--sklearn-color-fitted-level-2);\n",
       "}\n",
       "\n",
       "/* Specification for estimator info (e.g. \"i\" and \"?\") */\n",
       "\n",
       "/* Common style for \"i\" and \"?\" */\n",
       "\n",
       ".sk-estimator-doc-link,\n",
       "a:link.sk-estimator-doc-link,\n",
       "a:visited.sk-estimator-doc-link {\n",
       "  float: right;\n",
       "  font-size: smaller;\n",
       "  line-height: 1em;\n",
       "  font-family: monospace;\n",
       "  background-color: var(--sklearn-color-background);\n",
       "  border-radius: 1em;\n",
       "  height: 1em;\n",
       "  width: 1em;\n",
       "  text-decoration: none !important;\n",
       "  margin-left: 1ex;\n",
       "  /* unfitted */\n",
       "  border: var(--sklearn-color-unfitted-level-1) 1pt solid;\n",
       "  color: var(--sklearn-color-unfitted-level-1);\n",
       "}\n",
       "\n",
       ".sk-estimator-doc-link.fitted,\n",
       "a:link.sk-estimator-doc-link.fitted,\n",
       "a:visited.sk-estimator-doc-link.fitted {\n",
       "  /* fitted */\n",
       "  border: var(--sklearn-color-fitted-level-1) 1pt solid;\n",
       "  color: var(--sklearn-color-fitted-level-1);\n",
       "}\n",
       "\n",
       "/* On hover */\n",
       "div.sk-estimator:hover .sk-estimator-doc-link:hover,\n",
       ".sk-estimator-doc-link:hover,\n",
       "div.sk-label-container:hover .sk-estimator-doc-link:hover,\n",
       ".sk-estimator-doc-link:hover {\n",
       "  /* unfitted */\n",
       "  background-color: var(--sklearn-color-unfitted-level-3);\n",
       "  color: var(--sklearn-color-background);\n",
       "  text-decoration: none;\n",
       "}\n",
       "\n",
       "div.sk-estimator.fitted:hover .sk-estimator-doc-link.fitted:hover,\n",
       ".sk-estimator-doc-link.fitted:hover,\n",
       "div.sk-label-container:hover .sk-estimator-doc-link.fitted:hover,\n",
       ".sk-estimator-doc-link.fitted:hover {\n",
       "  /* fitted */\n",
       "  background-color: var(--sklearn-color-fitted-level-3);\n",
       "  color: var(--sklearn-color-background);\n",
       "  text-decoration: none;\n",
       "}\n",
       "\n",
       "/* Span, style for the box shown on hovering the info icon */\n",
       ".sk-estimator-doc-link span {\n",
       "  display: none;\n",
       "  z-index: 9999;\n",
       "  position: relative;\n",
       "  font-weight: normal;\n",
       "  right: .2ex;\n",
       "  padding: .5ex;\n",
       "  margin: .5ex;\n",
       "  width: min-content;\n",
       "  min-width: 20ex;\n",
       "  max-width: 50ex;\n",
       "  color: var(--sklearn-color-text);\n",
       "  box-shadow: 2pt 2pt 4pt #999;\n",
       "  /* unfitted */\n",
       "  background: var(--sklearn-color-unfitted-level-0);\n",
       "  border: .5pt solid var(--sklearn-color-unfitted-level-3);\n",
       "}\n",
       "\n",
       ".sk-estimator-doc-link.fitted span {\n",
       "  /* fitted */\n",
       "  background: var(--sklearn-color-fitted-level-0);\n",
       "  border: var(--sklearn-color-fitted-level-3);\n",
       "}\n",
       "\n",
       ".sk-estimator-doc-link:hover span {\n",
       "  display: block;\n",
       "}\n",
       "\n",
       "/* \"?\"-specific style due to the `<a>` HTML tag */\n",
       "\n",
       "#sk-container-id-1 a.estimator_doc_link {\n",
       "  float: right;\n",
       "  font-size: 1rem;\n",
       "  line-height: 1em;\n",
       "  font-family: monospace;\n",
       "  background-color: var(--sklearn-color-background);\n",
       "  border-radius: 1rem;\n",
       "  height: 1rem;\n",
       "  width: 1rem;\n",
       "  text-decoration: none;\n",
       "  /* unfitted */\n",
       "  color: var(--sklearn-color-unfitted-level-1);\n",
       "  border: var(--sklearn-color-unfitted-level-1) 1pt solid;\n",
       "}\n",
       "\n",
       "#sk-container-id-1 a.estimator_doc_link.fitted {\n",
       "  /* fitted */\n",
       "  border: var(--sklearn-color-fitted-level-1) 1pt solid;\n",
       "  color: var(--sklearn-color-fitted-level-1);\n",
       "}\n",
       "\n",
       "/* On hover */\n",
       "#sk-container-id-1 a.estimator_doc_link:hover {\n",
       "  /* unfitted */\n",
       "  background-color: var(--sklearn-color-unfitted-level-3);\n",
       "  color: var(--sklearn-color-background);\n",
       "  text-decoration: none;\n",
       "}\n",
       "\n",
       "#sk-container-id-1 a.estimator_doc_link.fitted:hover {\n",
       "  /* fitted */\n",
       "  background-color: var(--sklearn-color-fitted-level-3);\n",
       "}\n",
       "</style><div id=\"sk-container-id-1\" class=\"sk-top-container\"><div class=\"sk-text-repr-fallback\"><pre>XGBRegressor(base_score=None, booster=None, callbacks=None,\n",
       "             colsample_bylevel=None, colsample_bynode=None,\n",
       "             colsample_bytree=1.0, device=None, early_stopping_rounds=None,\n",
       "             enable_categorical=False, eval_metric=None, feature_types=None,\n",
       "             gamma=None, grow_policy=None, importance_type=None,\n",
       "             interaction_constraints=None, learning_rate=None, max_bin=None,\n",
       "             max_cat_threshold=None, max_cat_to_onehot=None,\n",
       "             max_delta_step=None, max_depth=3, max_leaves=None,\n",
       "             min_child_weight=1.0, missing=nan, monotone_constraints=None,\n",
       "             multi_strategy=None, n_estimators=500, n_jobs=None,\n",
       "             num_parallel_tree=None, random_state=None, ...)</pre><b>In a Jupyter environment, please rerun this cell to show the HTML representation or trust the notebook. <br />On GitHub, the HTML representation is unable to render, please try loading this page with nbviewer.org.</b></div><div class=\"sk-container\" hidden><div class=\"sk-item\"><div class=\"sk-estimator fitted sk-toggleable\"><input class=\"sk-toggleable__control sk-hidden--visually\" id=\"sk-estimator-id-1\" type=\"checkbox\" checked><label for=\"sk-estimator-id-1\" class=\"sk-toggleable__label fitted sk-toggleable__label-arrow fitted\">&nbsp;XGBRegressor<span class=\"sk-estimator-doc-link fitted\">i<span>Fitted</span></span></label><div class=\"sk-toggleable__content fitted\"><pre>XGBRegressor(base_score=None, booster=None, callbacks=None,\n",
       "             colsample_bylevel=None, colsample_bynode=None,\n",
       "             colsample_bytree=1.0, device=None, early_stopping_rounds=None,\n",
       "             enable_categorical=False, eval_metric=None, feature_types=None,\n",
       "             gamma=None, grow_policy=None, importance_type=None,\n",
       "             interaction_constraints=None, learning_rate=None, max_bin=None,\n",
       "             max_cat_threshold=None, max_cat_to_onehot=None,\n",
       "             max_delta_step=None, max_depth=3, max_leaves=None,\n",
       "             min_child_weight=1.0, missing=nan, monotone_constraints=None,\n",
       "             multi_strategy=None, n_estimators=500, n_jobs=None,\n",
       "             num_parallel_tree=None, random_state=None, ...)</pre></div> </div></div></div></div>"
      ],
      "text/plain": [
       "XGBRegressor(base_score=None, booster=None, callbacks=None,\n",
       "             colsample_bylevel=None, colsample_bynode=None,\n",
       "             colsample_bytree=1.0, device=None, early_stopping_rounds=None,\n",
       "             enable_categorical=False, eval_metric=None, feature_types=None,\n",
       "             gamma=None, grow_policy=None, importance_type=None,\n",
       "             interaction_constraints=None, learning_rate=None, max_bin=None,\n",
       "             max_cat_threshold=None, max_cat_to_onehot=None,\n",
       "             max_delta_step=None, max_depth=3, max_leaves=None,\n",
       "             min_child_weight=1.0, missing=nan, monotone_constraints=None,\n",
       "             multi_strategy=None, n_estimators=500, n_jobs=None,\n",
       "             num_parallel_tree=None, random_state=None, ...)"
      ]
     },
     "execution_count": 12,
     "metadata": {},
     "output_type": "execute_result"
    }
   ],
   "source": [
    "model.fit(X_train, y_train)"
   ]
  },
  {
   "cell_type": "code",
   "execution_count": 13,
   "id": "9021b839521eab94",
   "metadata": {
    "ExecuteTime": {
     "end_time": "2024-11-26T14:23:23.258979Z",
     "start_time": "2024-11-26T14:23:23.228831Z"
    }
   },
   "outputs": [
    {
     "data": {
      "text/plain": [
       "array([ 86.552925,  26.823208,  45.883007,  35.864384,  29.032578,\n",
       "        73.12315 ,  21.955675,  25.555424,  47.91631 ,  41.61576 ,\n",
       "       216.69621 ,  34.558926,  21.081831,  23.90828 ,  53.23651 ,\n",
       "        25.135897,  39.19127 ,  22.032976,  13.111601,  59.646038,\n",
       "        49.76206 , 100.87401 ,  55.033466,  22.03932 ,  46.04256 ,\n",
       "        35.740147,  57.853474,  30.16655 ,  58.027634,  37.14998 ,\n",
       "        43.447197,  18.275778,  77.79069 ,  44.35232 ,  38.12671 ,\n",
       "        37.191025,  35.88115 ,  19.682028,  44.83949 ,  45.61575 ,\n",
       "        62.094284,  54.842155,  27.661613,  51.87381 ,  48.16312 ,\n",
       "        39.357082,  66.14702 ,  30.743723,  32.730415,  77.71377 ,\n",
       "        26.38541 ,  28.310265, 104.51117 ,  24.621786,  45.24004 ,\n",
       "        22.481405,  95.24716 ,  37.61645 ,  49.718937,  54.1207  ,\n",
       "       105.044624,  32.60654 ,  25.135014,  23.22979 , 114.63588 ,\n",
       "        34.75053 ,  49.47291 ,  24.276054, 202.10136 ,  47.473446,\n",
       "        26.925625,  72.06204 ,  77.90609 ,  29.451338, 103.94398 ,\n",
       "        64.84221 ,  57.273228,  47.247204,  46.259872,  63.663273,\n",
       "        35.53934 ,  28.168228,  53.901886,  86.85926 ,  29.291187,\n",
       "        76.38328 ,  68.15345 ,  52.13157 ,  24.929146,  72.39456 ,\n",
       "        94.94056 ,  24.712156,  45.174156,  52.733635,  39.922356,\n",
       "        43.516735,  31.602036, 135.20197 ,  32.014698,  40.90177 ,\n",
       "        30.404278, 210.36967 ,  24.182777,  29.81119 ,  57.708652,\n",
       "        22.882053,  96.00318 ,  17.82444 , 131.54768 ,  62.53747 ,\n",
       "        44.148563,  24.577507,  27.822329,  27.856237,  25.179653,\n",
       "        32.26992 ,  55.277534,  48.994946, 175.04274 ,  36.06052 ,\n",
       "        14.830359,  23.427269,  22.969362, 197.87868 ,  50.412544,\n",
       "       139.54114 ,  26.901604,  59.804237,  54.41947 ,  47.47539 ,\n",
       "        22.423233,  42.37844 ,  22.536459,  26.515388,  47.310265,\n",
       "        24.738026,  56.25919 ,  54.36226 ,  40.686924,  48.27683 ,\n",
       "        29.642496,  17.265965,  31.756351, 111.25901 ,  35.97115 ,\n",
       "        26.320639,  51.733654,  60.126995,  28.80419 ,  58.621178,\n",
       "        47.359085,  88.20555 ,  51.866726,  59.974377,  71.09321 ,\n",
       "        36.897842,  41.00584 ,  19.051039,  85.25466 ,  31.387894,\n",
       "        25.1705  ,  31.92986 ,  46.288605, 146.0652  ,  50.02134 ,\n",
       "        17.672054,  25.037498,  22.957909,  64.984764, 200.54266 ,\n",
       "        39.44467 ,  47.48805 ,  42.55117 ,  58.17282 ,  49.403103,\n",
       "        46.71558 ,  63.20283 ,  71.5189  , 127.12259 ,  36.702213,\n",
       "        45.662334,  33.557022,  40.209076,  74.42388 ,  58.869774,\n",
       "        70.00845 ,  42.746548,  35.365517,  32.522873,  33.498814,\n",
       "        19.731754,  24.175535,  32.220894,  50.062798,  44.013824,\n",
       "        71.86005 ,  38.93988 ,  51.867485,  39.55638 ,  48.23397 ,\n",
       "        82.8011  ,  56.285534,  31.433311,  83.202415,  96.46396 ,\n",
       "        87.476715,  59.31691 ,  67.057236,  34.043915,  48.609226,\n",
       "        83.44411 ,  67.616   ,  26.781536, 118.3437  ,  44.1099  ,\n",
       "        32.00547 ,  60.494213,  27.73563 ,  52.556355, 138.40474 ,\n",
       "        34.402443,  52.550137,  26.794252,  43.384445,  63.062748,\n",
       "        53.918488,  35.85913 ,  74.99187 ,  85.515465,  32.323093,\n",
       "        44.522594,  27.452097,  45.18078 ,  45.71932 ,  34.84742 ,\n",
       "        78.51329 ,  48.544933,  68.4167  ,  40.658966,  23.656254,\n",
       "        91.157104,  41.929794,  67.48402 ,  46.246506, 111.845726,\n",
       "       103.175125,  34.925545,  51.56652 , 111.62162 ,  82.03802 ,\n",
       "        24.389898,  39.885353,  60.203976,  58.144695,  23.287611,\n",
       "        36.61446 ,  30.484837,  63.842762,  71.27845 ,  66.84524 ,\n",
       "        80.43938 ,  46.716774,  37.625618,  63.520596,  96.78603 ,\n",
       "        19.805332,  37.251545,  52.462242,  38.291073,  63.38564 ,\n",
       "        79.89308 ,  38.197033,  38.93133 ,  89.06032 ,  39.24748 ,\n",
       "        18.336073,  92.1456  ,  31.86635 ,  36.77565 ,  50.426746,\n",
       "        30.968172,  56.96036 ,  27.66011 ,  20.779297,  80.654816,\n",
       "        46.578926,  29.794142,  46.412403,  28.023241,  40.84783 ,\n",
       "        38.72804 ,  31.293081,  26.026503,  22.532713,  79.67544 ,\n",
       "        47.090702,  25.83555 ,  91.12579 ,  65.96322 ,  34.85681 ],\n",
       "      dtype=float32)"
      ]
     },
     "execution_count": 13,
     "metadata": {},
     "output_type": "execute_result"
    }
   ],
   "source": [
    "model.predict(X_test)"
   ]
  },
  {
   "cell_type": "code",
   "execution_count": 14,
   "id": "5cfe3566239e0a81",
   "metadata": {
    "ExecuteTime": {
     "end_time": "2024-11-26T14:23:23.399033Z",
     "start_time": "2024-11-26T14:23:23.367781Z"
    }
   },
   "outputs": [
    {
     "data": {
      "text/plain": [
       "0.8705986887146308"
      ]
     },
     "execution_count": 14,
     "metadata": {},
     "output_type": "execute_result"
    }
   ],
   "source": [
    "model.score(X_test, y_test)"
   ]
  },
  {
   "cell_type": "code",
   "execution_count": 15,
   "id": "52e6d85e521cd49e",
   "metadata": {
    "ExecuteTime": {
     "end_time": "2024-11-26T14:23:23.477157Z",
     "start_time": "2024-11-26T14:23:23.461536Z"
    }
   },
   "outputs": [],
   "source": [
    "explainer = GeoConformalizedExplainer(model, X_train, X_calib, loc_calib.values, loc_test.values, 0.1, 0.15)"
   ]
  },
  {
   "cell_type": "code",
   "execution_count": 16,
   "id": "151f27284fbf06d9",
   "metadata": {
    "ExecuteTime": {
     "end_time": "2024-11-26T14:29:34.333315Z",
     "start_time": "2024-11-26T14:23:23.524056Z"
    }
   },
   "outputs": [],
   "source": [
    "results = explainer.uncertainty_aware_explain(x_test=X_test)"
   ]
  },
  {
   "cell_type": "code",
   "execution_count": 18,
   "id": "c77b0aae7db8a6d4",
   "metadata": {
    "ExecuteTime": {
     "end_time": "2024-11-26T14:30:43.806847Z",
     "start_time": "2024-11-26T14:30:43.446946Z"
    }
   },
   "outputs": [
    {
     "data": {
      "image/png": "[encoded data removed]",
      "text/plain": [
       "<Figure size 1500x1500 with 1 Axes>"
      ]
     },
     "metadata": {},
     "output_type": "display_data"
    }
   ],
   "source": [
    "results.plot_shap_values_with_uncertainty(20)"
   ]
  },
  {
   "cell_type": "code",
   "execution_count": null,
   "id": "b22f5975a01402e0",
   "metadata": {},
   "outputs": [],
   "source": []
  },
  {
   "cell_type": "markdown",
   "id": "d84433cba64cc01",
   "metadata": {},
   "source": []
  }
 ],
 "metadata": {
  "kernelspec": {
   "display_name": "Python 3 (ipykernel)",
   "language": "python",
   "name": "python3"
  },
  "language_info": {
   "codemirror_mode": {
    "name": "ipython",
    "version": 3
   },
   "file_extension": ".py",
   "mimetype": "text/x-python",
   "name": "python",
   "nbconvert_exporter": "python",
   "pygments_lexer": "ipython3",
   "version": "3.9.19"
  }
 },
 "nbformat": 4,
 "nbformat_minor": 5
}
